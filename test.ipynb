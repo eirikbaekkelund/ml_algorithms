{
 "cells": [
  {
   "cell_type": "code",
   "execution_count": 3,
   "metadata": {},
   "outputs": [],
   "source": [
    "import numpy as np\n",
    "import week_1"
   ]
  },
  {
   "cell_type": "code",
   "execution_count": 5,
   "metadata": {},
   "outputs": [
    {
     "name": "stdout",
     "output_type": "stream",
     "text": [
      "0\n",
      "1\n",
      "2\n"
     ]
    }
   ],
   "source": [
    "for degree in range(3):\n",
    "    print(degree)"
   ]
  },
  {
   "cell_type": "code",
   "execution_count": 82,
   "metadata": {},
   "outputs": [],
   "source": [
    "def monomial_projection_1d ( X, degree ):\n",
    "    \"\"\"\n",
    "    Map 1d data to an expanded basis of monomials\n",
    "    up to the given degree.\n",
    "    \n",
    "    # Arguments\n",
    "        X: an array of sample data, where rows are samples\n",
    "            and the single column is the input feature.\n",
    "        degree: maximum degree of the monomial terms\n",
    "    \n",
    "    # Returns\n",
    "        Xm: an array of the transformed data, with the\n",
    "            same number of rows (samples) as X, and\n",
    "            with degree+1 columns (features):\n",
    "            1, x, x**2, x**3, ..., x**degree\n",
    "    \"\"\"\n",
    "    assert(len(X.shape)==2)\n",
    "    assert(X.shape[1]==1)\n",
    "\n",
    "    return np.hstack([np.power(X,i) for i in range(degree+1)])\n",
    "\n",
    "\n",
    "def generate_noisy_poly_1d ( num_samples, weights, sigma, limits, rng ):\n",
    "    \"\"\"\n",
    "    Draw samples from a 1D polynomial model with additive\n",
    "    Gaussian noise.\n",
    "    \n",
    "    # Arguments\n",
    "        num_samples: number of samples to generate\n",
    "            (ie, the number of rows in the returned X\n",
    "            and the length of the returned y)\n",
    "        weights: vector of the polynomial coefficients\n",
    "            (including a bias term at index 0)\n",
    "        sigma: standard deviation of the additive noise\n",
    "        limits: a tuple (low, high) specifying the value\n",
    "            range for the single input dimension x1\n",
    "        rng: an instance of numpy.random.Generator\n",
    "            from which to draw random numbers\n",
    "    \n",
    "    # Returns\n",
    "        X: a matrix of sample inputs, where\n",
    "            the samples are the rows and the\n",
    "            single column is the 1D feature x1\n",
    "            ie, its size should be:\n",
    "              num_samples x 1\n",
    "        y: a vector of num_samples output values\n",
    "    \"\"\"\n",
    "    rng = np.random.default_rng(seed=12345)\n",
    "    X = (limits[1]-limits[0])*rng.random(size=(num_samples,1)) + limits[0]\n",
    "   \n",
    "    y = week_1.add_bias_to_X(X=X) @ weights \n",
    "    \n",
    "    return X, y\n"
   ]
  },
  {
   "cell_type": "code",
   "execution_count": 83,
   "metadata": {},
   "outputs": [],
   "source": [
    "X, y = generate_noisy_poly_1d(100, np.array([1, 2]), 1, (-5, 5), np.random.default_rng(seed=12345))"
   ]
  },
  {
   "cell_type": "code",
   "execution_count": 84,
   "metadata": {},
   "outputs": [],
   "source": [
    "X = monomial_projection_1d(X=X, degree=3)"
   ]
  },
  {
   "cell_type": "code",
   "execution_count": 85,
   "metadata": {},
   "outputs": [
    {
     "data": {
      "text/plain": [
       "(100, 4)"
      ]
     },
     "execution_count": 85,
     "metadata": {},
     "output_type": "execute_result"
    }
   ],
   "source": [
    "X.shape"
   ]
  },
  {
   "cell_type": "code",
   "execution_count": null,
   "metadata": {},
   "outputs": [],
   "source": []
  }
 ],
 "metadata": {
  "interpreter": {
   "hash": "fe3f05434994f8f40b62b7a842a4d284a09e5cdb62d98927152580f7c19a8881"
  },
  "kernelspec": {
   "display_name": "Python 3.9.11 ('base')",
   "language": "python",
   "name": "python3"
  },
  "language_info": {
   "codemirror_mode": {
    "name": "ipython",
    "version": 3
   },
   "file_extension": ".py",
   "mimetype": "text/x-python",
   "name": "python",
   "nbconvert_exporter": "python",
   "pygments_lexer": "ipython3",
   "version": "3.9.11"
  },
  "orig_nbformat": 4
 },
 "nbformat": 4,
 "nbformat_minor": 2
}
