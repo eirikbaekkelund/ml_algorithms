{
 "cells": [
  {
   "attachments": {},
   "cell_type": "markdown",
   "metadata": {},
   "source": [
    "# Practice Exam 2021"
   ]
  },
  {
   "cell_type": "code",
   "execution_count": 1,
   "metadata": {},
   "outputs": [],
   "source": [
    "import numpy as np\n",
    "from sklearn.tree import DecisionTreeClassifier\n",
    "from sklearn.svm import SVC\n",
    "import torch\n",
    "import torch.nn as nn\n",
    "import torch.optim as optim\n",
    "import matplotlib.pyplot as plt\n",
    "from matplotlib.colors import ListedColormap\n"
   ]
  },
  {
   "attachments": {},
   "cell_type": "markdown",
   "metadata": {},
   "source": [
    "# XOR"
   ]
  },
  {
   "cell_type": "code",
   "execution_count": 28,
   "metadata": {},
   "outputs": [],
   "source": [
    "X = torch.tensor([[0,0], [0, 1], [1,0], [1,1]], dtype=torch.float32)\n",
    "X = torch.cat((torch.ones(X.shape[0], 1), X), 1)\n",
    "\n",
    "y = torch.tensor([0, 1, 1, 0], dtype=torch.float32).view(-1, 1)\n"
   ]
  },
  {
   "cell_type": "code",
   "execution_count": 58,
   "metadata": {},
   "outputs": [],
   "source": [
    "# create neural network with 1 hidden layer with 2 neurons and no bias\n",
    "model = nn.Sequential(nn.Linear(3, 2, bias=False), nn.ReLU(), nn.Linear(2, 1, bias=False), nn.Sigmoid())\n",
    "# use full batch gradient descent\n",
    "optimizer = optim.SGD(model.parameters(), lr=0.2)\n",
    "loss_fn = nn.BCELoss()\n",
    "# train the model\n",
    "for epoch in range(2000):\n",
    "    y_pred = model(X.float())\n",
    "\n",
    "    loss = loss_fn(y_pred, y)\n",
    "    optimizer.zero_grad()\n",
    "    loss.backward()\n",
    "    optimizer.step()\n"
   ]
  },
  {
   "cell_type": "code",
   "execution_count": 59,
   "metadata": {},
   "outputs": [
    {
     "name": "stdout",
     "output_type": "stream",
     "text": [
      "tensor([[0.0029],\n",
      "        [0.9983],\n",
      "        [0.5000],\n",
      "        [0.0021]], grad_fn=<SigmoidBackward0>)\n"
     ]
    }
   ],
   "source": [
    "print(model(X))"
   ]
  },
  {
   "cell_type": "code",
   "execution_count": 60,
   "metadata": {},
   "outputs": [
    {
     "name": "stdout",
     "output_type": "stream",
     "text": [
      "Predicted classes: [[0.]\n",
      " [1.]\n",
      " [1.]\n",
      " [0.]]\n",
      "Accuracy: 1.0\n"
     ]
    }
   ],
   "source": [
    "with torch.no_grad():\n",
    "    y_pred = model(X)\n",
    "    predicted_classes = (y_pred >= 0.5).float()\n",
    "    accuracy = torch.mean((predicted_classes == y).float())\n",
    "    print(f\"Predicted classes: {predicted_classes.numpy()}\")\n",
    "    print(f\"Accuracy: {accuracy.item()}\")"
   ]
  },
  {
   "cell_type": "code",
   "execution_count": 61,
   "metadata": {},
   "outputs": [
    {
     "data": {
      "text/plain": [
       "OrderedDict([('0.weight',\n",
       "              tensor([[-9.0219e-05, -3.6324e+00,  3.6325e+00],\n",
       "                      [ 1.8587e+00, -1.9016e+00,  2.0089e+00]])),\n",
       "             ('2.weight', tensor([[ 5.1048, -3.1436]]))])"
      ]
     },
     "execution_count": 61,
     "metadata": {},
     "output_type": "execute_result"
    }
   ],
   "source": [
    "# print number of weights\n",
    "model.state_dict()"
   ]
  },
  {
   "cell_type": "code",
   "execution_count": 62,
   "metadata": {},
   "outputs": [
    {
     "name": "stderr",
     "output_type": "stream",
     "text": [
      "/var/folders/3f/5b_39xqs2tlgzd30m4ll014r0000gn/T/ipykernel_72146/2847015022.py:9: DeprecationWarning: `np.int` is a deprecated alias for the builtin `int`. To silence this warning, use `int` by itself. Doing this will not modify any behavior and is safe. When replacing `np.int`, you may wish to use e.g. `np.int64` or `np.int32` to specify the precision. If you wish to review your current use, check the release note link for additional information.\n",
      "Deprecated in NumPy 1.20; for more details and guidance: https://numpy.org/devdocs/release/1.20.0-notes.html#deprecations\n",
      "  y_pred = (y_pred >= 0.5).astype(np.int)\n"
     ]
    },
    {
     "data": {
      "image/png": "[encoded data removed]",
      "text/plain": [
       "<Figure size 640x480 with 1 Axes>"
      ]
     },
     "metadata": {},
     "output_type": "display_data"
    }
   ],
   "source": [
    "def plot_decision_boundary_bias(X, y, model):\n",
    "    \"\"\" Binary Classification \"\"\"\n",
    "    cmap = ListedColormap([\"#FF0000\", \"#00FF00\"])\n",
    "    x1_min, x1_max = X[:, 1].min() - 0.1, X[:, 1].max() + 0.1\n",
    "    x2_min, x2_max = X[:, 2].min() - 0.1, X[:, 2].max() + 0.1\n",
    "    xx1, xx2 = np.meshgrid(np.linspace(x1_min, x1_max, 100), np.linspace(x2_min, x2_max, 100))\n",
    "    X_grid = np.c_[np.ones(xx1.ravel().shape[0]), xx1.ravel(), xx2.ravel()]\n",
    "    y_pred = model(torch.tensor(X_grid, dtype=torch.float32)).detach().numpy()\n",
    "    y_pred = (y_pred >= 0.5).astype(np.int)\n",
    "    y_pred = y_pred.reshape(xx1.shape)\n",
    "    plt.contourf(xx1, xx2, y_pred, cmap=cmap, alpha=0.3)\n",
    "    plt.scatter(X[:, 1], X[:, 2], c=y, cmap=cmap)\n",
    "    plt.show()\n",
    "\n",
    "plot_decision_boundary_bias(X.numpy(), y.numpy(), model)"
   ]
  },
  {
   "attachments": {},
   "cell_type": "markdown",
   "metadata": {},
   "source": [
    "# Decision Tree"
   ]
  },
  {
   "cell_type": "code",
   "execution_count": 63,
   "metadata": {},
   "outputs": [],
   "source": [
    "X = np.array([[1,2], [2,1], [3,3], [4,3], [5,2], [6,1], [6,3]])\n",
    "y = np.array(['B', 'A', 'B', 'C', 'A', 'C', 'B'])\n",
    "y_encoded = np.zeros(len(y), dtype=int)\n",
    "y_encoded[y == 'A'] = 1\n",
    "y_encoded[y == 'B'] = 2\n",
    "y_encoded[y == 'C'] = 3\n",
    "y = y_encoded\n"
   ]
  },
  {
   "cell_type": "code",
   "execution_count": 64,
   "metadata": {},
   "outputs": [],
   "source": [
    "def calculate_node_proportions(class_counts):\n",
    "    \"\"\" \n",
    "    Calculates the proportion of samples in each node \n",
    "    relative to the total number of samples.\n",
    "    \"\"\"\n",
    "    \n",
    "    node1 = np.sum(class_counts['node1'])\n",
    "    node2 = np.sum(class_counts['node2'])\n",
    "    n = node1 + node2\n",
    "    return node1 / n, node2 / n\n",
    "\n",
    "def misclassification_error(class_counts, y):\n",
    "    \"\"\" \n",
    "    Calculate misclassification error for the split.\n",
    "    \"\"\"\n",
    "    node1 = class_counts['node1']\n",
    "    node2 = class_counts['node2']\n",
    "    \n",
    "    # calculate misclassification error per node\n",
    "    error1 = 1 - np.max(node1) / np.sum(node1)\n",
    "    error2 = 1 - np.max(node2) / np.sum(node2)\n",
    "\n",
    "    error =  (error1 +  error2) / 2\n",
    "\n",
    "    return error\n",
    "\n",
    "def gini_impurity_error(class_counts, y):\n",
    "    \"\"\" \n",
    "    Calculate gini impurity error for the split.\n",
    "    \"\"\"\n",
    "    node1 = class_counts['node1']\n",
    "    node2 = class_counts['node2']\n",
    "    \n",
    "    # calculate gini impurity per node\n",
    "    gini1 = 1 - np.sum((node1 / np.sum(node1)) ** 2)\n",
    "    gini2 = 1 - np.sum((node2 / np.sum(node2)) ** 2)\n",
    "\n",
    "    prop1, prop2 = calculate_node_proportions(class_counts)\n",
    "    \n",
    "    # calculate weighted gini impurity\n",
    "    gini =  prop1 * gini1 + prop2 * gini2\n",
    "\n",
    "    return gini\n",
    "\n",
    "def cross_entropy_error(class_counts, y):\n",
    "    \"\"\" \n",
    "    Calculate cross entropy error for the split.\n",
    "    \"\"\"\n",
    "    node1 = class_counts['node1']\n",
    "    node2 = class_counts['node2']\n",
    "    \n",
    "    node1 = node1[node1 != 0]\n",
    "    node2 = node2[node2 != 0]\n",
    "    \n",
    "    # calculate cross entropy for present classes in each node\n",
    "    cross_entropy1 = - np.sum(node1 / np.sum(node1) * np.log(node1 / np.sum(node1)))\n",
    "    cross_entropy2 = - np.sum(node2 / np.sum(node2) * np.log(node2 / np.sum(node2)))\n",
    "\n",
    "    prop1, prop2 = calculate_node_proportions(class_counts)\n",
    "    \n",
    "    # calculate weighted cross entropy\n",
    "    cross_entropy =  prop1 * cross_entropy1 + prop2 * cross_entropy2\n",
    "\n",
    "    return cross_entropy"
   ]
  },
  {
   "cell_type": "code",
   "execution_count": 65,
   "metadata": {},
   "outputs": [],
   "source": [
    "def decision_stump_classifier(X, y):\n",
    "    \"\"\" \n",
    "    Decision tree of depth 1 that finds the best split for the data.\n",
    "    Finds splits and make prediction for the most present class in the split.\n",
    "    \"\"\"\n",
    "    # dict that stores number of classes in each node\n",
    "    \n",
    "    best_accuracy = 0\n",
    "    class_counts = {}\n",
    "    \n",
    "    for feature in range(X.shape[1]):\n",
    "        for threshold in np.unique(X[:, feature]):\n",
    "            # avoid empty splits\n",
    "            if np.sum(X[:, feature] <= threshold) == 0 or np.sum(X[:, feature] > threshold) == 0:\n",
    "                continue\n",
    "            idx1 = X[:, feature] > threshold\n",
    "            idx2 = ~idx1\n",
    "            y_node1 = y[idx1]\n",
    "            y_node2 = y[idx2]\n",
    "\n",
    "            y_pred1 = np.bincount(y_node1).argmax()\n",
    "            y_pred2 = np.bincount(y_node2).argmax()\n",
    "\n",
    "            accuracy = np.sum(y_node1 == y_pred1) + np.sum(y_node2 == y_pred2)\n",
    "\n",
    "            if accuracy >= best_accuracy:\n",
    "                best_threshold = threshold\n",
    "                best_feature = feature\n",
    "                # get classwise proportions in each node\n",
    "                class_counts['node1'] = np.bincount(y_node1)\n",
    "                class_counts['node2'] = np.bincount(y_node2)\n",
    "\n",
    "    return best_feature, best_threshold, class_counts\n",
    "    \n"
   ]
  },
  {
   "cell_type": "code",
   "execution_count": 66,
   "metadata": {},
   "outputs": [
    {
     "name": "stdout",
     "output_type": "stream",
     "text": [
      "Best feature: 1, threshold: 2\n",
      "split value = 2\n",
      "node1: [0 0 2 1]\n",
      "node2: [0 2 1 1]\n"
     ]
    }
   ],
   "source": [
    "feature, thresh, counts = decision_stump_classifier(X, y)\n",
    "print(f\"Best feature: {feature}, threshold: {thresh}\")\n",
    "print(f\"split value = {thresh}\")\n",
    "print(f\"node1: {counts['node1']}\")\n",
    "print(f\"node2: {counts['node2']}\")"
   ]
  },
  {
   "cell_type": "code",
   "execution_count": 67,
   "metadata": {},
   "outputs": [
    {
     "data": {
      "text/plain": [
       "(0.4166666666666667, 0.5476190476190476, 0.8669179411777299)"
      ]
     },
     "execution_count": 67,
     "metadata": {},
     "output_type": "execute_result"
    }
   ],
   "source": [
    "misclassification_error(counts, y), gini_impurity_error(counts, y), cross_entropy_error(counts, y)"
   ]
  },
  {
   "cell_type": "code",
   "execution_count": 68,
   "metadata": {},
   "outputs": [],
   "source": [
    "def plot_decision_stump_boundary(X, y, feature, thresh):\n",
    "    \"\"\" plot decision boundary for decision stump \"\"\"\n",
    "    cmap = ListedColormap(['#FFAAAA', '#AAFFAA', '#AAAAFF'])\n",
    "    x1_min, x1_max = X[:, 0].min() - 0.1, X[:, 0].max() + 0.1\n",
    "    x2_min, x2_max = X[:, 1].min() - 0.1, X[:, 1].max() + 0.1\n",
    "    xx1, xx2 = np.meshgrid(np.linspace(x1_min, x1_max, 100), np.linspace(x2_min, x2_max, 100))\n",
    "    X_grid = np.c_[xx1.ravel(), xx2.ravel()]\n",
    "    y_pred = np.zeros(len(X_grid))\n",
    "    y_pred[X_grid[:, feature] < thresh] = 1\n",
    "    y_pred = y_pred.reshape(xx1.shape)\n",
    "    plt.contourf(xx1, xx2, y_pred, cmap=cmap, alpha=0.3)\n",
    "    plt.scatter(X[:, 0], X[:, 1], c=y, cmap=cmap)\n",
    "    plt.show()\n"
   ]
  },
  {
   "cell_type": "code",
   "execution_count": 69,
   "metadata": {},
   "outputs": [
    {
     "data": {
      "image/png": "[encoded data removed]",
      "text/plain": [
       "<Figure size 640x480 with 1 Axes>"
      ]
     },
     "metadata": {},
     "output_type": "display_data"
    }
   ],
   "source": [
    "plot_decision_stump_boundary(X, y, feature, thresh)"
   ]
  },
  {
   "cell_type": "code",
   "execution_count": 70,
   "metadata": {},
   "outputs": [],
   "source": [
    "def plot_decision_boundary(X, y, model):\n",
    "    \"\"\" plot decision boundary for decision tree \"\"\"\n",
    "    cmap = ListedColormap(['#FFAAAA', '#AAFFAA', '#AAAAFF'])\n",
    "    x1_min, x1_max = X[:, 0].min() - 0.1, X[:, 0].max() + 0.1\n",
    "    x2_min, x2_max = X[:, 1].min() - 0.1, X[:, 1].max() + 0.1\n",
    "    xx1, xx2 = np.meshgrid(np.linspace(x1_min, x1_max, 100), np.linspace(x2_min, x2_max, 100))\n",
    "    X_grid = np.c_[xx1.ravel(), xx2.ravel()]\n",
    "    y_pred = model.predict(X_grid)\n",
    "    y_pred = y_pred.reshape(xx1.shape)\n",
    "    plt.contourf(xx1, xx2, y_pred, cmap=cmap, alpha=0.3)\n",
    "    plt.scatter(X[:, 0], X[:, 1], c=y, cmap=cmap)\n",
    "    plt.show()"
   ]
  },
  {
   "cell_type": "code",
   "execution_count": 71,
   "metadata": {},
   "outputs": [
    {
     "data": {
      "image/png": "[encoded data removed]",
      "text/plain": [
       "<Figure size 640x480 with 1 Axes>"
      ]
     },
     "metadata": {},
     "output_type": "display_data"
    }
   ],
   "source": [
    "tree_model = DecisionTreeClassifier(max_depth=3)\n",
    "tree_model.fit(X, y)\n",
    "plot_decision_boundary(X, y, tree_model)"
   ]
  },
  {
   "cell_type": "code",
   "execution_count": 72,
   "metadata": {},
   "outputs": [
    {
     "data": {
      "text/plain": [
       "{1: 2.5, 0: 3.5, -2: -2.0}"
      ]
     },
     "execution_count": 72,
     "metadata": {},
     "output_type": "execute_result"
    }
   ],
   "source": [
    "# get splits from tree\n",
    "splits = tree_model.tree_.threshold\n",
    "features = tree_model.tree_.feature\n",
    "predictions = tree_model.tree_.value\n",
    "# dicts with feature and splits pairs\n",
    "splits_dict = dict(zip(features, splits))\n",
    "splits_dict"
   ]
  },
  {
   "cell_type": "code",
   "execution_count": 73,
   "metadata": {},
   "outputs": [
    {
     "name": "stdout",
     "output_type": "stream",
     "text": [
      "(22, 2)\n"
     ]
    },
    {
     "data": {
      "text/plain": [
       "<matplotlib.collections.PathCollection at 0x14d98e920>"
      ]
     },
     "execution_count": 73,
     "metadata": {},
     "output_type": "execute_result"
    },
    {
     "data": {
      "image/png": "[encoded data removed]",
      "text/plain": [
       "<Figure size 640x480 with 1 Axes>"
      ]
     },
     "metadata": {},
     "output_type": "display_data"
    }
   ],
   "source": [
    "x1 = np.random.rand(20,2)\n",
    "x2 = np.random.rand(20,2) + 1\n",
    "x1 = np.concatenate((x1, np.array([[1.85, 0.75]])))\n",
    "x1 = np.concatenate((x1, np.array([[0.75, 2]])))\n",
    "\n",
    "X = np.concatenate((x1, x2))\n",
    "y = np.array([1 if x in x1 else -1 for x in X])\n",
    "\n",
    "print(x1.shape)\n",
    "\n",
    "plt.scatter(x=x1[:,0], y=x1[:,1], label='x1', color='r')\n",
    "plt.scatter(x=x2[:,0], y=x2[:,1], label='x2', color='b')"
   ]
  },
  {
   "cell_type": "code",
   "execution_count": 74,
   "metadata": {},
   "outputs": [
    {
     "data": {
      "image/png": "[encoded data removed]",
      "text/plain": [
       "<Figure size 640x480 with 1 Axes>"
      ]
     },
     "metadata": {},
     "output_type": "display_data"
    }
   ],
   "source": [
    "svm = SVC(C = 0.001, kernel='poly')\n",
    "svm.fit(X, y)\n",
    "y_pred = svm.predict(X)\n",
    "\n",
    "np.mean(y_pred == y)\n",
    "\n",
    "plot_decision_boundary(X, y, svm)"
   ]
  },
  {
   "cell_type": "code",
   "execution_count": 75,
   "metadata": {},
   "outputs": [],
   "source": [
    "def neuron_linear_equation(x1, y1, x2, y2):\n",
    "    \"\"\" create m and b for line equation y = mx + b \"\"\"\n",
    "    m = (y2 - y1) / (x2 - x1)\n",
    "    b = y1 - m * x1\n",
    "\n",
    "    return m, b\n",
    "\n"
   ]
  },
  {
   "cell_type": "code",
   "execution_count": 79,
   "metadata": {},
   "outputs": [
    {
     "name": "stdout",
     "output_type": "stream",
     "text": [
      "N1 : -1.000 + x1 * 0.667 + x2 * 1 = 0\n",
      "N2 : 8.000 + x1 * -2.433 + x2 * 1 = 0\n"
     ]
    },
    {
     "data": {
      "text/plain": [
       "<matplotlib.legend.Legend at 0x14dcfa380>"
      ]
     },
     "execution_count": 79,
     "metadata": {},
     "output_type": "execute_result"
    },
    {
     "data": {
      "image/png": "[encoded data removed]",
      "text/plain": [
       "<Figure size 640x480 with 1 Axes>"
      ]
     },
     "metadata": {},
     "output_type": "display_data"
    }
   ],
   "source": [
    "p11 = np.array([3, 1])\n",
    "p12 = np.array([6, 3])\n",
    "\n",
    "p21 = np.array([0, 8])\n",
    "p22 = np.array([3, 0.7])\n",
    "\n",
    "x = np.linspace(0, 6, 100)\n",
    "\n",
    "w_11, w_10 = neuron_linear_equation(x1=p11[0], y1=p11[1], x2=p12[0], y2=p12[1])\n",
    "w_21, w_20 = neuron_linear_equation(x1=p21[0], y1=p21[1], x2=p22[0], y2=p22[1])\n",
    "\n",
    "x21 = w_11 * x + w_10\n",
    "x22 = w_21 * x + w_20\n",
    "print(f'N1 : {w_10:.3f} + x1 * {w_11:.3f} + x2 * {1} = 0')\n",
    "print(f'N2 : {w_20:.3f} + x1 * {w_21:.3f} + x2 * {1} = 0')\n",
    "\n",
    "plt.plot(x, x21, label='N1')\n",
    "plt.plot(x, x22, label='N2')\n",
    "\n",
    "plt.legend()\n",
    "\n"
   ]
  },
  {
   "cell_type": "code",
   "execution_count": 81,
   "metadata": {},
   "outputs": [],
   "source": [
    "# create pytorch neural network class that takes h1 as input and has 1 neuron to output\n",
    "\n",
    "class Net(nn.Module):\n",
    "    \"\"\"2 dimensional input where first layer has\n",
    "       fixed weights and second layer has trainable weights \n",
    "       it has 2 neurons to 1 neuron in the\"\"\"\n",
    "    def __init__(self, W1, b1):\n",
    "        super().__init__()\n",
    "        # create w1 with fixed n1 and n2 and a bias term to be mulitplied by W2\n",
    "        self.W1 = W1\n",
    "        self.b1 = b1\n",
    "        self.W2 = nn.Parameter(torch.randn(2, dtype=torch.float32), requires_grad=True)\n",
    "        self.b2 = nn.Parameter(torch.randn(1, dtype=torch.float32), requires_grad=True)\n",
    "        self.sigmoid = nn.Sigmoid()\n",
    "        self.relu = nn.ReLU()\n",
    "\n",
    "    \n",
    "    def forward(self, x):\n",
    "        h1 = x @ self.W1 + self.b1\n",
    "        h1 = self.relu(h1)\n",
    "        h2 = h1 @ self.W2 + self.b2      \n",
    "        h2 = self.sigmoid(-h2)\n",
    "        return h2\n",
    "    \n",
    "    def train(self, X, y, epochs, lr):\n",
    "        optimizer = optim.SGD([self.W2], lr=lr)\n",
    "        criterion = nn.BCELoss()\n",
    "        \n",
    "        for epoch in range(epochs):\n",
    "            optimizer.zero_grad()\n",
    "            y_pred = self.forward(X)\n",
    "            loss = criterion(y_pred, y.float())\n",
    "            loss.backward()\n",
    "            optimizer.step()\n",
    "            if epoch % 100 == 0:\n",
    "                print(f'Epoch: {epoch}, loss: {loss.item():.3f}')\n",
    "        return self.W2    "
   ]
  },
  {
   "cell_type": "code",
   "execution_count": null,
   "metadata": {},
   "outputs": [],
   "source": [
    "m1, b1 = neuron_linear_equation(x1=3, y1=1, x2=5, y2=3)\n",
    "m2, b2 = neuron_linear_equation(x1=0, y1=4.5, x2=3, y2=0.5)\n",
    "\n",
    "\n",
    "w1 = torch.tensor([1, m1], dtype=torch.float32)\n",
    "w2 = torch.tensor([1, m2], dtype=torch.float32)\n",
    "bias = torch.tensor([b1, b2], dtype=torch.float32)\n",
    "\n",
    "W1 = torch.stack([w1, w2], dim=0)\n",
    "model = Net(W1=W1, b1=bias)\n",
    "model.train(X, y, epochs=1000, lr=0.1)\n",
    "\n",
    "pred = model.forward(X)\n",
    "pred.detach()\n",
    "pred = torch.where(pred > 0.5, 0, 1)\n",
    "torch.mean((pred == y).float())"
   ]
  },
  {
   "attachments": {},
   "cell_type": "markdown",
   "metadata": {},
   "source": [
    "# Practice Exam 2022"
   ]
  },
  {
   "cell_type": "code",
   "execution_count": 83,
   "metadata": {},
   "outputs": [
    {
     "name": "stdout",
     "output_type": "stream",
     "text": [
      "OLS: [-1.17733333  0.61685714]\n",
      "Ridge: [-0.57995074  0.4737931 ]\n"
     ]
    }
   ],
   "source": [
    "# create numpy arrays from this data x : y\n",
    "# 1 0.15 2 −0.01 3 0.40 4 0.26 5 1.50 6 3.59\n",
    "x = np.array([1, 2, 3, 4, 5, 6])\n",
    "y = np.array([0.15, -0.01, 0.40, 0.26, 1.50, 3.59])\n",
    "\n",
    "# add bias\n",
    "x = np.stack([np.ones_like(x), x], axis=1)\n",
    "\n",
    "# OLS\n",
    "w = np.linalg.inv(x.T @ x) @ x.T @ y\n",
    "# Ridge\n",
    "w_ridge = np.linalg.inv(x.T @ x + np.eye(w.shape[0])) @ x.T @ y\n",
    "\n",
    "print(f'OLS: {w}')\n",
    "print(f'Ridge: {w_ridge}')"
   ]
  },
  {
   "cell_type": "code",
   "execution_count": 84,
   "metadata": {},
   "outputs": [
    {
     "data": {
      "text/plain": [
       "<matplotlib.legend.Legend at 0x14da2da80>"
      ]
     },
     "execution_count": 84,
     "metadata": {},
     "output_type": "execute_result"
    },
    {
     "data": {
      "image/png": "[encoded data removed]",
      "text/plain": [
       "<Figure size 640x480 with 1 Axes>"
      ]
     },
     "metadata": {},
     "output_type": "display_data"
    }
   ],
   "source": [
    "plt.plot(x[:,1], y, 'o', fillstyle='none', label='data')\n",
    "plt.plot(x[:,1], x @ w, label='OLS')\n",
    "plt.plot(x[:,1], x @ w_ridge, label='Ridge')\n",
    "\n",
    "plt.legend()"
   ]
  },
  {
   "cell_type": "code",
   "execution_count": 85,
   "metadata": {},
   "outputs": [
    {
     "name": "stdout",
     "output_type": "stream",
     "text": [
      "OLS: 98.82266666666656\n",
      "Ridge: 10.81862068965517\n",
      "Partial Ridge: [98.82266667 10.81862069]\n",
      "Ridge: [54.09985222 10.81862069]\n"
     ]
    },
    {
     "data": {
      "text/plain": [
       "<matplotlib.legend.Legend at 0x14da7a050>"
      ]
     },
     "execution_count": 85,
     "metadata": {},
     "output_type": "execute_result"
    },
    {
     "data": {
      "image/png": "[encoded data removed]",
      "text/plain": [
       "<Figure size 640x480 with 1 Axes>"
      ]
     },
     "metadata": {},
     "output_type": "display_data"
    }
   ],
   "source": [
    "y = np.array([0.15, -0.01, 0.40, 0.26, 1.50, 3.59]) + 100\n",
    "\n",
    "w1,_ = np.linalg.inv(x.T @ x) @ x.T @ y\n",
    "_, w2 = np.linalg.inv(x.T @ x + np.eye(w.shape[0])) @ x.T @ y\n",
    "\n",
    "print(f'OLS: {w1}')\n",
    "print(f'Ridge: {w2}')\n",
    "# partial ridge\n",
    "w_partial_ridge = np.array([w1, w2])\n",
    "w_ridge = np.linalg.inv(x.T @ x + np.eye(w.shape[0])) @ x.T @ y\n",
    "\n",
    "print(f'Partial Ridge: {w_partial_ridge}')\n",
    "print(f'Ridge: {w_ridge}')\n",
    "\n",
    "plt.plot(x[:,1], y, 'o', fillstyle='none', label='data')\n",
    "plt.plot(x[:,1], x @ w_partial_ridge, label='Partial Ridge')\n",
    "plt.plot(x[:,1], x @ w_ridge, label='Ridge')\n",
    "\n",
    "plt.legend()\n"
   ]
  },
  {
   "cell_type": "code",
   "execution_count": 221,
   "metadata": {},
   "outputs": [],
   "source": [
    "x = np.array([[0.0, 0.1], [0.1, 0.0], [0.9, 1.0], [1.0, 0.9]])\n",
    "\n",
    "c1 = np.array([1,0])\n",
    "c2 = np.array([0,1])\n"
   ]
  },
  {
   "cell_type": "code",
   "execution_count": 222,
   "metadata": {},
   "outputs": [
    {
     "name": "stdout",
     "output_type": "stream",
     "text": [
      "Epoch: 1, loss: 3.6\n",
      "Epoch: 2, loss: 2.5455844122715714\n",
      "Epoch: 3, loss: 2.5455844122715714\n"
     ]
    }
   ],
   "source": [
    "def k_means(x, c1, c2):\n",
    "    loss = 1000\n",
    "    current_loss = np.inf\n",
    "\n",
    "    epoch = 1\n",
    "    while loss < current_loss:\n",
    "        # k means clustering\n",
    "        current_loss = loss\n",
    "        # calculate distance from each point to each centroid\n",
    "        dist_c1 = np.linalg.norm(x - c1, axis=1)\n",
    "        dist_c2 = np.linalg.norm(x - c2, axis=1)\n",
    "\n",
    "        # assign each point to the closest centroid\n",
    "        c1_idx = dist_c1 < dist_c2\n",
    "\n",
    "        # calculate new centroids\n",
    "        c1 = np.mean(x[c1_idx], axis=0)\n",
    "        c2 = np.mean(x[~c1_idx], axis=0)\n",
    "\n",
    "        # calculate loss\n",
    "        loss = np.sum(dist_c1[c1_idx]) + np.sum(dist_c2[~c1_idx])\n",
    "        print(f'Epoch: {epoch}, loss: {loss}')\n",
    "\n",
    "        epoch += 1\n",
    "    return c1, c2, c1_idx\n",
    "\n",
    "c1, c2, c1_idx = k_means(x, c1, c2)\n"
   ]
  },
  {
   "cell_type": "code",
   "execution_count": 223,
   "metadata": {},
   "outputs": [],
   "source": [
    "def plot_k_means(x, c1, c2, c1_idx):\n",
    "    fig, ax = plt.subplots()\n",
    "\n",
    "    # plot the data and circle around centroid with max distance in centroid\n",
    "    # plt.scatter(x[:,0], x[:,1], 'o', fillstyle='none', label='data')\n",
    "    ax.scatter(c1[0], c1[1], color='r', label='centroid 1')\n",
    "    ax.scatter(c2[0], c2[1], color='b', label='centroid 2')\n",
    "\n",
    "    # calculate distance from each point to each centroid\n",
    "    max_dist_c1 = max(np.linalg.norm(x[c1_idx]- c1, axis=1))\n",
    "    max_dist_c2 = max(np.linalg.norm(x[~c1_idx]- c2, axis=1))\n",
    "\n",
    "    # plot circle around centroid with max distance in centroid\n",
    "    ax.add_patch(plt.Circle(c1, max_dist_c1, fill=False, color='r'))\n",
    "    ax.add_patch(plt.Circle(c2, max_dist_c2, fill=False, color='b'))\n",
    "\n",
    "    x1= x[c1_idx]\n",
    "    x2 = x[~c1_idx]\n",
    "\n",
    "    ax.scatter(x1[:,0], x1[:,1], color='r', label='cluster 1', marker='x')\n",
    "    ax.scatter(x2[:,0], x2[:,1], color='b', label='cluster 2', marker='x')\n",
    "\n",
    "    ax.legend(loc='best')"
   ]
  },
  {
   "cell_type": "code",
   "execution_count": 224,
   "metadata": {},
   "outputs": [
    {
     "data": {
      "image/png": "[encoded data removed]",
      "text/plain": [
       "<Figure size 640x480 with 1 Axes>"
      ]
     },
     "metadata": {},
     "output_type": "display_data"
    }
   ],
   "source": [
    "plot_k_means(x, c1, c2, c1_idx)"
   ]
  },
  {
   "cell_type": "code",
   "execution_count": 225,
   "metadata": {},
   "outputs": [],
   "source": [
    "# Gaussian Mixture Models\n",
    "class GaussianMixtureModel2D(nn.Module):\n",
    "    def __init__(self, mu1, mu2, sig1, sig2):\n",
    "        super().__init__()\n",
    "        self.mu1 = mu1\n",
    "        self.mu2 = mu2\n",
    "        self.sig1 = sig1\n",
    "        self.sig2 = sig2\n",
    "        self.alpha = torch.tensor([0.5])\n",
    "\n",
    "    def gmm_gamma(self, x):\n",
    "        \"\"\" \n",
    "        Calculate the probability (responsiblity) of each point in each cluster\n",
    "        \"\"\"\n",
    "        # calculate probability of each point in each cluster\n",
    "        log_p1 = torch.distributions.multivariate_normal.MultivariateNormal(self.mu1, self.sig1).log_prob(x) \n",
    "        log_p2 = torch.distributions.multivariate_normal.MultivariateNormal(self.mu2, self.sig2).log_prob(x) \n",
    "\n",
    "        # calculate probability of each point in each cluster\n",
    "        p1 = torch.exp(log_p1) * self.alpha\n",
    "        p2 = torch.exp(log_p2) * (1 - self.alpha)\n",
    "        \n",
    "        gamma1 = p1 / ( p1 + p2)\n",
    "        gamma2 = p2 / ( p1 + p2)\n",
    "\n",
    "        self.alpha = torch.sum(gamma1) / x.shape[0]\n",
    "        \n",
    "        return gamma1, gamma2\n",
    "\n",
    "    def train(self, x, epochs):\n",
    "        \"\"\" \n",
    "        Calculate the parameters of a Gaussian mixture model using the EM algorithm\n",
    "        \"\"\"\n",
    "\n",
    "        for _ in range(epochs):\n",
    "            # E step\n",
    "            gamma1, gamma2 = self.gmm_gamma(x)\n",
    "            \n",
    "            # M step\n",
    "            self.mu1 = torch.sum(gamma1 * x.T, axis=1) / torch.sum(gamma1)\n",
    "            self.mu2 = torch.sum(gamma2 * x.T, axis=1) / torch.sum(gamma2)\n",
    "            \n",
    "            self.sig1 = (gamma1 * (x - self.mu1).t() @ (x - self.mu1)) / torch.sum(gamma1)\n",
    "            self.sig2 = (gamma2 * (x - self.mu2).t() @ (x - self.mu2)) / torch.sum(gamma2)\n",
    "\n",
    "        return self.mu1, self.mu2, self.sig1, self.sig2"
   ]
  },
  {
   "cell_type": "code",
   "execution_count": 226,
   "metadata": {},
   "outputs": [],
   "source": [
    "x_numpy = np.array([[0.0, 0.1], [0.1, 0.0], [0.9, 1.0], [1.0, 0.9]])\n",
    "\n",
    "x = torch.tensor(x_numpy, dtype=torch.float32)\n",
    "x1, x2 = torch.tensor(x_numpy[c1_idx], dtype=torch.float32), torch.tensor(x_numpy[~c1_idx], dtype=torch.float32)\n",
    "\n",
    "# get intial means of each cluster\n",
    "mu1,mu2 = torch.tensor(c1), torch.tensor(c2)\n",
    "\n",
    "# get initial covariance in each cluster\n",
    "sigma1 = torch.cov(x.T) + torch.eye(2) * 0.1\n",
    "sigma2 = sigma1\n",
    "\n",
    "gmm = GaussianMixtureModel2D(mu1, mu2, sigma1, sigma2)\n",
    "mu1, mu2, sigma1, sigma2 = gmm.train(x=x, epochs=1)"
   ]
  },
  {
   "cell_type": "code",
   "execution_count": 227,
   "metadata": {},
   "outputs": [],
   "source": [
    "c1_dist = torch.distributions.multivariate_normal.MultivariateNormal(mu1, sigma1)\n",
    "c2_dist = torch.distributions.multivariate_normal.MultivariateNormal(mu2, sigma2)\n",
    "\n",
    "# calculate probability of each point in each cluster\n",
    "p1 = torch.exp(c1_dist.log_prob(x)) * gmm.alpha\n",
    "p2 = torch.exp(c2_dist.log_prob(x)) * (1 - gmm.alpha)\n",
    "\n",
    "# calculate probability of each point in each cluster\n",
    "resp1 = p1 / ( p1 + p2)\n",
    "resp2 = p2 / ( p1 + p2)"
   ]
  },
  {
   "cell_type": "code",
   "execution_count": 228,
   "metadata": {},
   "outputs": [],
   "source": [
    "# plot distribution contours of the GMM \n",
    "def plot_gmm(x, gmm):\n",
    "    fig, ax = plt.subplots()\n",
    "\n",
    "    x1 = np.linspace(0, 1, 100)\n",
    "    x2 = np.linspace(0, 1, 100)\n",
    "    xx1, xx2 = np.meshgrid(x1, x2)\n",
    "    zz = np.c_[xx1.ravel(), xx2.ravel()]\n",
    "\n",
    "    p1 = torch.exp(c1_dist.log_prob(torch.tensor(zz, dtype=torch.float32))) * gmm.alpha\n",
    "    p2 = torch.exp(c2_dist.log_prob(torch.tensor(zz, dtype=torch.float32))) * (1 - gmm.alpha)\n",
    "\n",
    "    # plot contours\n",
    "    ax.contourf(x1, x2, p1.reshape(100,100), cmap='Reds', alpha=0.3)\n",
    "    ax.contourf(x1, x2, p2.reshape(100,100), cmap='Blues', alpha=0.3)\n",
    "\n",
    "    # plot data\n",
    "    ax.scatter(x[:,0], x[:,1], color='k', marker='x')\n",
    "\n",
    "    # plot cluster 1\n",
    "    ax.scatter(x[c1_idx][:,0], x[c1_idx][:,1], color='r', marker='x')\n",
    "\n",
    "    # plot cluster 2\n",
    "    ax.scatter(x[~c1_idx][:,0], x[~c1_idx][:,1], color='b', marker='x')\n",
    "\n",
    "    # plot centroid of each cluster\n",
    "    ax.scatter(mu1[0], mu1[1], color='r', marker='o')\n",
    "    ax.scatter(mu2[0], mu2[1], color='b', marker='o')\n",
    "\n",
    "    ax.set_xlim(0-0.01,1+0.01)\n",
    "    ax.set_ylim(0-0.01,1+0.01);\n",
    "\n"
   ]
  },
  {
   "cell_type": "code",
   "execution_count": 229,
   "metadata": {},
   "outputs": [
    {
     "data": {
      "image/png": "[encoded data removed]",
      "text/plain": [
       "<Figure size 640x480 with 1 Axes>"
      ]
     },
     "metadata": {},
     "output_type": "display_data"
    }
   ],
   "source": [
    "plot_gmm(x, gmm)"
   ]
  },
  {
   "cell_type": "code",
   "execution_count": 230,
   "metadata": {},
   "outputs": [
    {
     "name": "stdout",
     "output_type": "stream",
     "text": [
      "mu1:  [0.502342   0.49765792]\n",
      "mu2:  [0.49765795 0.50234205]\n",
      "sigma1:  [[0.2049945  0.20000547]\n",
      " [0.20000547 0.20499451]]\n",
      "sigma2:  [[0.2049945  0.20000547]\n",
      " [0.20000547 0.20499451]]\n",
      "alpha1:  0.5\n",
      "alpha2:  0.5\n",
      "gamma1:  [0.4765454  0.52345467 0.47654524 0.52345467]\n",
      "gamma2:  [0.5234546  0.47654536 0.5234548  0.47654533]\n"
     ]
    }
   ],
   "source": [
    "# print the parameters of the GMM\n",
    "print('mu1: ', mu1.numpy())\n",
    "print('mu2: ', mu2.numpy())\n",
    "print('sigma1: ', sigma1.numpy())\n",
    "print('sigma2: ', sigma2.numpy())\n",
    "print('alpha1: ', gmm.alpha.numpy())\n",
    "print('alpha2: ', (1 - gmm.alpha).numpy())\n",
    "print('gamma1: ', resp1.numpy())\n",
    "print('gamma2: ', resp2.numpy())\n"
   ]
  },
  {
   "cell_type": "code",
   "execution_count": 231,
   "metadata": {},
   "outputs": [
    {
     "name": "stdout",
     "output_type": "stream",
     "text": [
      "z1 = 0.00\n",
      "z2 = 0.00\n",
      "z3 = 0.00\n",
      "z4 = 0.00\n",
      "z5 = 0.00\n"
     ]
    }
   ],
   "source": [
    "z = 1\n",
    "h = -1/12\n",
    "dz = lambda x: 8*x**3 + 4*x\n",
    "for i in range(5):\n",
    "    z = z + h * dz(z)\n",
    "    print(f'z{i+1} = {z:.2f}')"
   ]
  },
  {
   "cell_type": "code",
   "execution_count": 345,
   "metadata": {},
   "outputs": [],
   "source": [
    "class ConvNetOperations(nn.Module):\n",
    "    \"\"\" \n",
    "    Class that performs a series of convolutional operations\n",
    "\n",
    "    Args:\n",
    "        conv_ops (list): list of tuples (filters, stride, kernel_size, padding)\n",
    "        channels (int): number of channels in the input\n",
    "\n",
    "    \"\"\"\n",
    "    def __init__(self, conv_ops, channels=3, bias=True):\n",
    "        super(ConvNetOperations, self).__init__()\n",
    "        self.conv_ops = conv_ops\n",
    "        self.bias = bias\n",
    "        self.conv_layers = nn.ModuleList()\n",
    "        self.channels = channels\n",
    "        self.layer_outputs = []\n",
    "        self._build_model()\n",
    "    \n",
    "    def _build_model(self):\n",
    "     \n",
    "        for filters, stride, kernel_size, padding in self.conv_ops:\n",
    "            self.conv_layers.append(nn.Conv2d(in_channels=self.channels, \n",
    "                                              out_channels=filters, \n",
    "                                              kernel_size=kernel_size, \n",
    "                                              stride=stride, \n",
    "                                              padding=padding,\n",
    "                                              bias=self.bias))\n",
    "            self.channels = filters\n",
    "        \n",
    "    def forward(self, x):\n",
    "        for conv_layer in self.conv_layers:\n",
    "            x = conv_layer(x)\n",
    "            self.layer_outputs.append(x.shape[1:])\n",
    "        return x\n",
    "    \n",
    "    def get_output_size(self, input_size):\n",
    "        x = torch.randn(1, *input_size)\n",
    "        return self.forward(x).shape[1:]\n",
    "    \n",
    "    def get_num_params(self):\n",
    "        return sum([np.prod(p.shape) for p in self.parameters()])\n",
    "    \n",
    "    def get_num_params_per_layer(self):\n",
    "        params = [np.prod(p.shape) for p in self.parameters()]\n",
    "        return [sum(params[i:i+2]) for i in range(0, len(params), 2)]\n",
    "    "
   ]
  },
  {
   "cell_type": "code",
   "execution_count": 346,
   "metadata": {},
   "outputs": [],
   "source": [
    "# tuples are (filters, stride, kernel_size, padding)\n",
    "conv_ops = [(16, 1, 3, 1), (8, 1, 5, 2), (8, 1, 3, 1)]\n",
    "input_size = (3, 32, 32)\n",
    "channels = 3"
   ]
  },
  {
   "cell_type": "code",
   "execution_count": 347,
   "metadata": {},
   "outputs": [],
   "source": [
    "# create a model\n",
    "model = ConvNetOperations(conv_ops, channels=channels)\n",
    "\n",
    "# get output size of the model\n",
    "output_size = model.get_output_size(input_size)\n",
    "\n",
    "# get number of parameters in the model\n",
    "num_params = model.get_num_params()\n",
    "\n",
    "# get number of parameters in each layer of the model\n",
    "num_params_per_layer = model.get_num_params_per_layer()\n"
   ]
  },
  {
   "cell_type": "code",
   "execution_count": 348,
   "metadata": {},
   "outputs": [
    {
     "name": "stdout",
     "output_type": "stream",
     "text": [
      "output size:  torch.Size([8, 32, 32])\n",
      "number of parameters:  4240\n",
      "number of parameters per layer:  [448, 3208, 584]\n",
      "layer outputs:  [torch.Size([16, 32, 32]), torch.Size([8, 32, 32]), torch.Size([8, 32, 32])]\n"
     ]
    }
   ],
   "source": [
    "\n",
    "print('output size: ', output_size)\n",
    "print('number of parameters: ', num_params)\n",
    "print('number of parameters per layer: ', num_params_per_layer)\n",
    "print('layer outputs: ', model.layer_outputs)\n",
    "\n",
    "# convolutions are calculated as follows (for height and width):\n",
    "# output_size = (input_size - kernel_size + 2 * padding) / stride + 1\n",
    "\n",
    "# the parameters of each layer are calculated as follows:\n",
    "# num_params = filters * kernel_size * kernel_size * channels + filters"
   ]
  },
  {
   "attachments": {},
   "cell_type": "markdown",
   "metadata": {},
   "source": [
    "# Exam 2022"
   ]
  },
  {
   "cell_type": "code",
   "execution_count": 236,
   "metadata": {},
   "outputs": [],
   "source": [
    "def kmeans_1d(x, c1, c2):\n",
    "    \"\"\" do k means algoritm until convergence\"\"\"\n",
    "    loss = 1000\n",
    "    current_loss = np.inf\n",
    "\n",
    "    epoch = 1\n",
    "    while loss < current_loss:\n",
    "        # k means clustering\n",
    "        current_loss = loss\n",
    "        # calculate distance from each point to each centroid\n",
    "        dist_c1 = np.abs(x - c1)\n",
    "        dist_c2 = np.abs(x - c2)\n",
    "\n",
    "        # assign each point to the closest centroid\n",
    "        c1_idx = dist_c1 < dist_c2\n",
    "\n",
    "        # calculate new centroids\n",
    "        c1 = np.mean(x[c1_idx])\n",
    "        c2 = np.mean(x[~c1_idx])\n",
    "\n",
    "        # calculate loss\n",
    "        loss = np.sum(dist_c1[c1_idx]) + np.sum(dist_c2[~c1_idx])\n",
    "        print(f'Epoch: {epoch}, loss: {loss}')\n",
    "\n",
    "        epoch += 1\n",
    "    return c1, c2, c1_idx\n",
    "    "
   ]
  },
  {
   "cell_type": "code",
   "execution_count": 244,
   "metadata": {},
   "outputs": [],
   "source": [
    "class GaussianMixtureModel1D(nn.Module):\n",
    "    def __init__(self, mu1, mu2, sig1, sig2):\n",
    "        super().__init__()\n",
    "        self.mu1 = mu1\n",
    "        self.mu2 = mu2\n",
    "        self.sig1 = sig1\n",
    "        self.sig2 = sig2\n",
    "        self.alpha = torch.tensor([0.5])\n",
    "\n",
    "    def gmm_gamma(self, x):\n",
    "        \"\"\" \n",
    "        Calculate the probability (responsiblity) of each point in each cluster\n",
    "        \"\"\"\n",
    "        # calculate probability of each point in each cluster\n",
    "        log_p1 = torch.distributions.Normal(loc=self.mu1, scale=self.sig1).log_prob(x)\n",
    "        log_p2 = torch.distributions.Normal(loc=self.mu2, scale=self.sig2).log_prob(x)\n",
    "\n",
    "        # calculate probability of each point in each cluster\n",
    "        p1 = torch.exp(log_p1) * self.alpha\n",
    "        p2 = torch.exp(log_p2) * (1 - self.alpha)\n",
    "        \n",
    "        gamma1 = p1 / ( p1 + p2)\n",
    "        gamma2 = p2 / ( p1 + p2)\n",
    "\n",
    "        self.alpha = torch.sum(gamma1) / x.shape[0]\n",
    "        \n",
    "        return gamma1, gamma2\n",
    "\n",
    "    def train(self, x, epochs):\n",
    "        \"\"\" \n",
    "        Calculate the parameters of a Gaussian mixture model using the EM algorithm\n",
    "        \"\"\"\n",
    "\n",
    "        for _ in range(epochs):\n",
    "            # E step\n",
    "            gamma1, gamma2 = self.gmm_gamma(x)\n",
    "            \n",
    "            # M step\n",
    "            self.mu1 = torch.sum(gamma1 * x, axis=1) / torch.sum(gamma1)\n",
    "            self.mu2 = torch.sum(gamma2 * x, axis=1) / torch.sum(gamma2)\n",
    "            \n",
    "            self.sig1 = (gamma1 * (x - self.mu1).t() @ (x - self.mu1)) / torch.sum(gamma1) * torch.eye(1)\n",
    "            self.sig2 = (gamma2 * (x - self.mu2).t() @ (x - self.mu2)) / torch.sum(gamma2) * torch.eye(1)\n",
    "\n",
    "        return self.mu1, self.mu2, self.sig1, self.sig2"
   ]
  },
  {
   "cell_type": "code",
   "execution_count": 246,
   "metadata": {},
   "outputs": [],
   "source": [
    "# create x numpy arrray from 0.72 1.05 1.57 2.10 3.22 4.01\n",
    "x_numpy = np.array([0.72, 1.05, 1.57, 2.10, 3.22, 4.01])\n",
    "\n",
    "# initialize centroids for k-means\n",
    "mu1_numpy = 1.0\n",
    "mu2_numpy = 2.0"
   ]
  },
  {
   "cell_type": "code",
   "execution_count": 247,
   "metadata": {},
   "outputs": [
    {
     "name": "stdout",
     "output_type": "stream",
     "text": [
      "Epoch: 1, loss: 4.09\n",
      "Epoch: 2, loss: 3.42\n",
      "Epoch: 3, loss: 2.91\n",
      "Epoch: 4, loss: 2.6899999999999995\n",
      "Epoch: 5, loss: 2.6899999999999995\n"
     ]
    }
   ],
   "source": [
    "c1_numpy, c2_numpy, c1_idx = kmeans_1d(x_numpy, mu1_numpy, mu2_numpy)"
   ]
  },
  {
   "cell_type": "code",
   "execution_count": 248,
   "metadata": {},
   "outputs": [],
   "source": [
    "x = torch.tensor(x_numpy, dtype=torch.float32)\n",
    "c1, c2 = torch.tensor(c1_numpy, dtype=torch.float32), torch.tensor(c2_numpy, dtype=torch.float32)"
   ]
  },
  {
   "cell_type": "code",
   "execution_count": 269,
   "metadata": {},
   "outputs": [],
   "source": [
    "gmm = GaussianMixtureModel1D(mu1=c1, mu2=c2, sig1=torch.eye(1), sig2=torch.eye(1))\n",
    "mu1, mu2, sigma1, sigma2 = gmm.train(x=x, epochs=10)"
   ]
  },
  {
   "cell_type": "code",
   "execution_count": 270,
   "metadata": {},
   "outputs": [
    {
     "name": "stdout",
     "output_type": "stream",
     "text": [
      "mu1:  [1.36]\n",
      "sigma1:  [[0.27435]]\n",
      "mu2:  [3.6150002]\n",
      "sigma2:  [[0.15602508]]\n"
     ]
    }
   ],
   "source": [
    "print('mu1: ', mu1.numpy())\n",
    "print('sigma1: ', sigma1.numpy())\n",
    "\n",
    "print('mu2: ', mu2.numpy())\n",
    "print('sigma2: ', sigma2.numpy())"
   ]
  },
  {
   "cell_type": "code",
   "execution_count": 271,
   "metadata": {},
   "outputs": [],
   "source": [
    "def plot_gmm_1d(x, mu1, mu2, sig1, sig2):\n",
    "    \"\"\" plot the gaussian mixture model \"\"\"\n",
    "    xx = torch.linspace(0, 5, 1000).reshape(-1, 1)\n",
    "    p1 = torch.distributions.Normal(loc=mu1, scale=sig1).log_prob(xx).exp()\n",
    "    p2 = torch.distributions.Normal(loc=mu2, scale=sig2).log_prob(xx).exp()\n",
    "   \n",
    "    plt.plot(xx, p1.numpy(), label='cluster 1', color='red')\n",
    "    plt.plot(xx, p2.numpy(), label='cluster 2', color='blue')\n",
    "    plt.scatter(x, np.zeros_like(x), label='data', color='black')\n",
    "\n",
    "    plt.legend()\n",
    "\n"
   ]
  },
  {
   "cell_type": "code",
   "execution_count": 272,
   "metadata": {},
   "outputs": [
    {
     "data": {
      "image/png": "[encoded data removed]",
      "text/plain": [
       "<Figure size 640x480 with 1 Axes>"
      ]
     },
     "metadata": {},
     "output_type": "display_data"
    }
   ],
   "source": [
    "plot_gmm_1d(x, mu1, mu2, sigma1, sigma2)"
   ]
  },
  {
   "cell_type": "code",
   "execution_count": 330,
   "metadata": {},
   "outputs": [],
   "source": [
    "class HiddenMarkovModel(nn.Module):\n",
    "    \"\"\" \n",
    "    class that implements a hidden markov model\n",
    "    We have an observed sequence of emissions and unknown states.\n",
    "    We will calculate the probability of the states per time step using the forward algorithm.\n",
    "    \n",
    "    Args:\n",
    "        pi: initial state probabilities\n",
    "        transition_math: transition matrix\n",
    "        emission_mat: emission matrix with probabilities of each state emitting each observation\n",
    "        obs_seq: observed sequence of emissions\n",
    "\n",
    "    \"\"\"\n",
    "    def __init__(self, pi, transition_mat, emission_mat, obs_seq):\n",
    "        super().__init__()\n",
    "        self.pi = pi\n",
    "        self.transition_mat = transition_mat\n",
    "        self.emission_mat = emission_mat\n",
    "        self.obs_seq = obs_seq\n",
    "    \n",
    "    def forward(self):\n",
    "        \"\"\" \n",
    "        Calculate the probability of each state at each time step using the forward algorithm\n",
    "        \"\"\"\n",
    "        # initialize alpha\n",
    "        alpha = torch.zeros((self.obs_seq.shape[0], self.pi.shape[0]))\n",
    "        alpha[0] = self.pi * self.emission_mat[:, self.obs_seq[0]]\n",
    "\n",
    "        # calculate alpha for each time step\n",
    "        for t in range(1, self.obs_seq.shape[0]):\n",
    "            alpha[t] = alpha[t-1] @ self.transition_mat * self.emission_mat[:, self.obs_seq[t]]\n",
    "        return alpha\n",
    "    \n",
    "    def calculate_state_prob_from_obs_seq(self, state, time_step):\n",
    "        \"\"\" \n",
    "        Calculate the probability of being in a state at a given time step\n",
    "        from the observeed sequence of emissions\n",
    "        \"\"\"\n",
    "        alpha = self.forward()\n",
    "        # sum alphas over all states at a given time step\n",
    "        total_prob = torch.sum(alpha[time_step])\n",
    "        # calculate the probability of being in a state at a given time step\n",
    "        prob = alpha[time_step, state] / total_prob\n",
    "        print(f'p(z = {state} | obs_seq = {self.obs_seq.numpy()}) = {prob:.4f}\\n')\n",
    "\n",
    "        return prob\n",
    "    \n",
    "    def print_calculation_each_alpha_(self):\n",
    "        \"\"\" \n",
    "        Print the calculation of each alpha and display each state per timestep\n",
    "        for the obsevered sequence\n",
    "        \"\"\"\n",
    "        print('alpha calculation:\\n')\n",
    "        alpha = self.forward()\n",
    "        for t in range(self.obs_seq.shape[0]):\n",
    "            if t == 0:\n",
    "                for i in range(self.pi.shape[0]):\n",
    "                    print(f'alpha[{t, i}] = {self.emission_mat[i, self.obs_seq[t]]:.2f} * {self.pi[i]:.2f} = {alpha[t, i]:.5f}')\n",
    "\n",
    "            else:\n",
    "                for i in range(self.pi.shape[0]):\n",
    "                    print(f'alpha[{t, i}] = {self.emission_mat[i, self.obs_seq[t]]:.2f} * ({self.transition_mat[i, 0]:.2f} * {alpha[t-1, 0]:.2f} + {self.transition_mat[i, 1]:.2f} * {alpha[t-1, 1]:.2f}) = {alpha[t, i]:.5f}')\n",
    "            \n",
    "            print('\\n')\n",
    "    \n"
   ]
  },
  {
   "cell_type": "code",
   "execution_count": 331,
   "metadata": {},
   "outputs": [
    {
     "name": "stdout",
     "output_type": "stream",
     "text": [
      "alpha calculation:\n",
      "\n",
      "alpha[(0, 0)] = 0.90 * 0.10 = 0.09000\n",
      "alpha[(0, 1)] = 0.10 * 0.90 = 0.09000\n",
      "\n",
      "\n",
      "alpha[(1, 0)] = 0.90 * (0.10 * 0.09 + 0.90 * 0.09) = 0.00810\n",
      "alpha[(1, 1)] = 0.10 * (0.00 * 0.09 + 1.00 * 0.09) = 0.01710\n",
      "\n",
      "\n",
      "p(z = 0 | obs_seq = [0 0]) = 0.3214\n",
      "\n"
     ]
    }
   ],
   "source": [
    "# initial state probabilities\n",
    "pi = torch.tensor([0.1, 0.9])\n",
    "# transition matrix\n",
    "transition_mat = torch.tensor([[0.1, 0.9], [0.0, 1.0]])\n",
    "# emission matrix\n",
    "emission_mat = torch.tensor([[0.9, 0.1], [0.1, 0.9]])\n",
    "# observed sequence\n",
    "obs_seq = torch.tensor([0, 0])\n",
    "\n",
    "hmm = HiddenMarkovModel(pi, transition_mat, emission_mat, obs_seq)\n",
    "hmm.print_calculation_each_alpha_()\n",
    "prob = hmm.calculate_state_prob_from_obs_seq(state=0, time_step=1)\n"
   ]
  },
  {
   "cell_type": "code",
   "execution_count": 362,
   "metadata": {},
   "outputs": [
    {
     "name": "stdout",
     "output_type": "stream",
     "text": [
      "alpha calculation:\n",
      "\n",
      "alpha[(0, 0)] = 0.90 * 0.10 = 0.09000\n",
      "alpha[(0, 1)] = 0.10 * 0.20 = 0.02000\n",
      "alpha[(0, 2)] = 0.50 * 0.70 = 0.35000\n",
      "\n",
      "\n",
      "alpha[(1, 0)] = 0.90 * (0.10 * 0.09 + 0.20 * 0.02) = 0.00810\n",
      "alpha[(1, 1)] = 0.10 * (0.00 * 0.09 + 0.90 * 0.02) = 0.00360\n",
      "alpha[(1, 2)] = 0.50 * (0.00 * 0.09 + 0.00 * 0.02) = 0.20750\n",
      "\n",
      "\n",
      "alpha[(2, 0)] = 0.10 * (0.10 * 0.01 + 0.20 * 0.00) = 0.00008\n",
      "alpha[(2, 1)] = 0.90 * (0.00 * 0.01 + 0.90 * 0.00) = 0.00437\n",
      "alpha[(2, 2)] = 0.50 * (0.00 * 0.01 + 0.00 * 0.00) = 0.10676\n",
      "\n",
      "\n",
      "alpha[(3, 0)] = 0.10 * (0.10 * 0.00 + 0.20 * 0.00) = 0.00000\n",
      "alpha[(3, 1)] = 0.90 * (0.00 * 0.00 + 0.90 * 0.00) = 0.00356\n",
      "alpha[(3, 2)] = 0.50 * (0.00 * 0.00 + 0.00 * 0.00) = 0.05363\n",
      "\n",
      "\n",
      "p(z = 2 | obs_seq = [0 0 1 1]) = 0.9378\n",
      "\n"
     ]
    }
   ],
   "source": [
    "pi = torch.tensor([0.1, 0.2, 0.7])\n",
    "transition_mat = torch.tensor([[0.1, 0.2, 0.7], \n",
    "                               [0.0, 0.9, 0.1],\n",
    "                                 [0.0, 0.0, 1.0]])\n",
    "emission_mat = torch.tensor([[0.9, 0.1], \n",
    "                             [0.1, 0.9], \n",
    "                             [0.5, 0.5]])\n",
    "obs_seq = torch.tensor([0, 0, 1, 1])\n",
    "hmm = HiddenMarkovModel(pi, transition_mat, emission_mat, obs_seq)\n",
    "hmm.print_calculation_each_alpha_()\n",
    "prob = hmm.calculate_state_prob_from_obs_seq(state=2, time_step=3)\n"
   ]
  },
  {
   "cell_type": "code",
   "execution_count": null,
   "metadata": {},
   "outputs": [],
   "source": [
    "# writes a function that is to be taken gradients of \n",
    "x1 = torch.tensor(1.0, requires_grad=True)\n",
    "w1 = torch.tensor(2.0, requires_grad=True)\n",
    "\n"
   ]
  },
  {
   "cell_type": "code",
   "execution_count": 358,
   "metadata": {},
   "outputs": [
    {
     "name": "stdout",
     "output_type": "stream",
     "text": [
      "x1:  [6 3 7 4]\n",
      "x2:  [6 9 2 6]\n",
      "mu1:  5.0\n"
     ]
    },
    {
     "data": {
      "text/plain": [
       "tensor([[ 3.3333, -4.6667],\n",
       "        [-4.6667,  8.2500]])"
      ]
     },
     "execution_count": 358,
     "metadata": {},
     "output_type": "execute_result"
    }
   ],
   "source": [
    "np.random.seed(42)\n",
    "torch.random.seed()\n",
    "# two arrays of length 4\n",
    "x1 = np.random.randint(0, 10, 4)\n",
    "x2 = np.random.randint(0, 10, 4)\n",
    "\n",
    "print('x1: ', x1)\n",
    "print('x2: ', x2)\n",
    "x = torch.tensor([x1, x2], dtype=torch.float32)\n",
    "\n",
    "print('mu1: ', np.mean(x1))\n",
    "# get covariance of x\n",
    "cov = torch.tensor(np.cov(x1, x2), dtype=torch.float32)\n",
    "\n",
    "cov\n"
   ]
  },
  {
   "cell_type": "code",
   "execution_count": 359,
   "metadata": {},
   "outputs": [
    {
     "name": "stdout",
     "output_type": "stream",
     "text": [
      "mu2 5.75\n"
     ]
    }
   ],
   "source": [
    "print('mu2', np.mean(x2))"
   ]
  }
 ],
 "metadata": {
  "kernelspec": {
   "display_name": "base",
   "language": "python",
   "name": "python3"
  },
  "language_info": {
   "codemirror_mode": {
    "name": "ipython",
    "version": 3
   },
   "file_extension": ".py",
   "mimetype": "text/x-python",
   "name": "python",
   "nbconvert_exporter": "python",
   "pygments_lexer": "ipython3",
   "version": "3.10.9"
  },
  "orig_nbformat": 4
 },
 "nbformat": 4,
 "nbformat_minor": 2
}
